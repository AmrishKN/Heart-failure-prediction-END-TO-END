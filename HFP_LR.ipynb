{
 "cells": [
  {
   "cell_type": "markdown",
   "id": "e117ed01",
   "metadata": {
    "id": "e117ed01",
    "papermill": {
     "duration": 0.036116,
     "end_time": "2022-04-05T23:59:06.652530",
     "exception": false,
     "start_time": "2022-04-05T23:59:06.616414",
     "status": "completed"
    },
    "tags": []
   },
   "source": [
    "## Import libraries and data\n"
   ]
  },
  {
   "cell_type": "code",
   "execution_count": null,
   "id": "d8cb6956",
   "metadata": {
    "execution": {
     "iopub.execute_input": "2022-04-05T23:59:06.733963Z",
     "iopub.status.busy": "2022-04-05T23:59:06.732231Z",
     "iopub.status.idle": "2022-04-05T23:59:08.953504Z",
     "shell.execute_reply": "2022-04-05T23:59:08.954009Z",
     "shell.execute_reply.started": "2022-04-04T06:12:13.511156Z"
    },
    "id": "d8cb6956",
    "papermill": {
     "duration": 2.264644,
     "end_time": "2022-04-05T23:59:08.954266",
     "exception": false,
     "start_time": "2022-04-05T23:59:06.689622",
     "status": "completed"
    },
    "tags": []
   },
   "outputs": [],
   "source": [
    "import numpy as np\n",
    "import pandas as pd\n",
    "from plotly.offline import iplot, init_notebook_mode\n",
    "import plotly.express as px \n",
    "from plotly.subplots import make_subplots\n",
    "import plotly.graph_objects as go \n",
    "import matplotlib.pyplot as plt \n",
    "import seaborn as sns\n",
    "from sklearn import preprocessing \n",
    "from sklearn.model_selection import train_test_split \n",
    "from sklearn.linear_model import LogisticRegression \n",
    "from sklearn.model_selection import cross_val_score\n",
    "from sklearn.metrics import classification_report\n",
    "from sklearn import metrics\n",
    "from sklearn.model_selection import GridSearchCV\n",
    "\n",
    "import pickle # to save and load the model"
   ]
  },
  {
   "cell_type": "code",
   "execution_count": null,
   "id": "05a25a16",
   "metadata": {
    "execution": {
     "iopub.execute_input": "2022-04-05T23:59:09.123632Z",
     "iopub.status.busy": "2022-04-05T23:59:09.122931Z",
     "iopub.status.idle": "2022-04-05T23:59:09.138166Z",
     "shell.execute_reply": "2022-04-05T23:59:09.138696Z",
     "shell.execute_reply.started": "2022-04-04T06:12:13.544548Z"
    },
    "id": "05a25a16",
    "papermill": {
     "duration": 0.058065,
     "end_time": "2022-04-05T23:59:09.138857",
     "exception": false,
     "start_time": "2022-04-05T23:59:09.080792",
     "status": "completed"
    },
    "tags": []
   },
   "outputs": [],
   "source": [
    "#convert file into dataset\n",
    "data = pd.read_csv(r\"C:\\Users\\amris\\Downloads\\DPS LAB\\heart.csv\")"
   ]
  },
  {
   "cell_type": "markdown",
   "id": "6e886813",
   "metadata": {
    "id": "6e886813",
    "papermill": {
     "duration": 0.036129,
     "end_time": "2022-04-05T23:59:09.212850",
     "exception": false,
     "start_time": "2022-04-05T23:59:09.176721",
     "status": "completed"
    },
    "tags": []
   },
   "source": [
    "## Understand the data"
   ]
  },
  {
   "cell_type": "code",
   "execution_count": null,
   "id": "d4b48947",
   "metadata": {
    "colab": {
     "base_uri": "https://localhost:8080/",
     "height": 206
    },
    "execution": {
     "iopub.execute_input": "2022-04-05T23:59:09.291923Z",
     "iopub.status.busy": "2022-04-05T23:59:09.291410Z",
     "iopub.status.idle": "2022-04-05T23:59:09.310035Z",
     "shell.execute_reply": "2022-04-05T23:59:09.310495Z",
     "shell.execute_reply.started": "2022-04-04T06:12:13.560701Z"
    },
    "id": "d4b48947",
    "outputId": "82332f3c-17ae-49a2-8623-2caf34956908",
    "papermill": {
     "duration": 0.057867,
     "end_time": "2022-04-05T23:59:09.310642",
     "exception": false,
     "start_time": "2022-04-05T23:59:09.252775",
     "status": "completed"
    },
    "tags": []
   },
   "outputs": [],
   "source": [
    "#explore first five rows in the dataset\n",
    "data.head()"
   ]
  },
  {
   "cell_type": "code",
   "execution_count": null,
   "id": "23bdddce",
   "metadata": {
    "colab": {
     "base_uri": "https://localhost:8080/"
    },
    "execution": {
     "iopub.execute_input": "2022-04-05T23:59:09.388929Z",
     "iopub.status.busy": "2022-04-05T23:59:09.388412Z",
     "iopub.status.idle": "2022-04-05T23:59:09.410066Z",
     "shell.execute_reply": "2022-04-05T23:59:09.411012Z",
     "shell.execute_reply.started": "2022-04-04T06:12:13.581355Z"
    },
    "id": "23bdddce",
    "outputId": "ab2dd103-2198-4414-9d58-1ecd92be7df3",
    "papermill": {
     "duration": 0.063031,
     "end_time": "2022-04-05T23:59:09.411249",
     "exception": false,
     "start_time": "2022-04-05T23:59:09.348218",
     "status": "completed"
    },
    "tags": []
   },
   "outputs": [],
   "source": [
    "#information about dataset, type, columns names, null \n",
    "data.info()"
   ]
  },
  {
   "cell_type": "markdown",
   "id": "f3ff24a4",
   "metadata": {
    "id": "f3ff24a4",
    "papermill": {
     "duration": 0.036698,
     "end_time": "2022-04-05T23:59:09.487280",
     "exception": false,
     "start_time": "2022-04-05T23:59:09.450582",
     "status": "completed"
    },
    "tags": []
   },
   "source": [
    "<font size=\"3\">The dataset contains 12 columns with 918 rows. 7 columns are numeric and the rest are categorical, there are no missing values. </font>\n",
    "\n"
   ]
  },
  {
   "cell_type": "code",
   "execution_count": null,
   "id": "316fd37f",
   "metadata": {
    "colab": {
     "base_uri": "https://localhost:8080/",
     "height": 300
    },
    "execution": {
     "iopub.execute_input": "2022-04-05T23:59:09.566069Z",
     "iopub.status.busy": "2022-04-05T23:59:09.565549Z",
     "iopub.status.idle": "2022-04-05T23:59:09.594250Z",
     "shell.execute_reply": "2022-04-05T23:59:09.594762Z",
     "shell.execute_reply.started": "2022-04-04T06:12:13.600292Z"
    },
    "id": "316fd37f",
    "outputId": "80ce86e3-37ed-40b1-fea9-7bda43650c08",
    "papermill": {
     "duration": 0.069837,
     "end_time": "2022-04-05T23:59:09.594919",
     "exception": false,
     "start_time": "2022-04-05T23:59:09.525082",
     "status": "completed"
    },
    "tags": []
   },
   "outputs": [],
   "source": [
    "#statistical description of data numeric columns\n",
    "data.describe()"
   ]
  },
  {
   "cell_type": "code",
   "execution_count": null,
   "id": "24a34b50",
   "metadata": {
    "colab": {
     "base_uri": "https://localhost:8080/",
     "height": 174
    },
    "execution": {
     "iopub.execute_input": "2022-04-05T23:59:09.676010Z",
     "iopub.status.busy": "2022-04-05T23:59:09.675437Z",
     "iopub.status.idle": "2022-04-05T23:59:09.694712Z",
     "shell.execute_reply": "2022-04-05T23:59:09.695220Z",
     "shell.execute_reply.started": "2022-04-04T06:12:13.637376Z"
    },
    "id": "24a34b50",
    "outputId": "03730b74-a6c3-4891-8afb-9277ab9b040b",
    "papermill": {
     "duration": 0.060606,
     "end_time": "2022-04-05T23:59:09.695380",
     "exception": false,
     "start_time": "2022-04-05T23:59:09.634774",
     "status": "completed"
    },
    "tags": []
   },
   "outputs": [],
   "source": [
    "#description of data object columns\n",
    "data.select_dtypes(include=['object']).describe()"
   ]
  },
  {
   "cell_type": "code",
   "execution_count": null,
   "id": "7190aa9f",
   "metadata": {
    "colab": {
     "base_uri": "https://localhost:8080/",
     "height": 561
    },
    "execution": {
     "iopub.execute_input": "2022-04-05T23:59:09.777284Z",
     "iopub.status.busy": "2022-04-05T23:59:09.776782Z",
     "iopub.status.idle": "2022-04-05T23:59:09.872141Z",
     "shell.execute_reply": "2022-04-05T23:59:09.871679Z",
     "shell.execute_reply.started": "2022-04-04T06:12:13.666204Z"
    },
    "id": "7190aa9f",
    "outputId": "7165f5cf-b81b-4a15-8f77-3c55cd874a01",
    "papermill": {
     "duration": 0.136659,
     "end_time": "2022-04-05T23:59:09.872263",
     "exception": false,
     "start_time": "2022-04-05T23:59:09.735604",
     "status": "completed"
    },
    "tags": []
   },
   "outputs": [],
   "source": [
    "#description of percent of data object columns\n",
    "col=data.select_dtypes(include=['object']).columns.tolist()\n",
    "#create iteration of object columns\n",
    "for i in col:\n",
    "    count=data[i].value_counts()\n",
    "    percent=data.groupby(['HeartDisease'])[i].value_counts(normalize=True)[1]\n",
    "    display(pd.DataFrame({\"Patients\":count, \"Percent\":percent*100})\\\n",
    "            .sort_values(\"Percent\", ascending=False)\n",
    "            .style.set_caption('Variable: {}'.format(i))\\\n",
    "            .format({\"Percent\": \"{:,.1f}%\"}))"
   ]
  },
  {
   "cell_type": "markdown",
   "id": "e7bbab6c",
   "metadata": {
    "id": "e7bbab6c",
    "papermill": {
     "duration": 0.043396,
     "end_time": "2022-04-05T23:59:09.958386",
     "exception": false,
     "start_time": "2022-04-05T23:59:09.914990",
     "status": "completed"
    },
    "tags": []
   },
   "source": [
    "## Outliers"
   ]
  },
  {
   "cell_type": "code",
   "execution_count": null,
   "id": "e0e3bc7c",
   "metadata": {
    "colab": {
     "base_uri": "https://localhost:8080/",
     "height": 517
    },
    "execution": {
     "iopub.execute_input": "2022-04-05T23:59:10.167472Z",
     "iopub.status.busy": "2022-04-05T23:59:10.166828Z",
     "iopub.status.idle": "2022-04-05T23:59:10.429181Z",
     "shell.execute_reply": "2022-04-05T23:59:10.429649Z",
     "shell.execute_reply.started": "2022-04-04T06:12:13.725071Z"
    },
    "id": "e0e3bc7c",
    "outputId": "91a738fd-1ab1-4dc3-8862-2c21096e6d74",
    "papermill": {
     "duration": 0.430516,
     "end_time": "2022-04-05T23:59:10.429804",
     "exception": false,
     "start_time": "2022-04-05T23:59:09.999288",
     "status": "completed"
    },
    "tags": []
   },
   "outputs": [],
   "source": [
    "# Set up the subplots grid\n",
    "fig = make_subplots(rows=2, cols=3, \n",
    "                    # Set the subplot titles\n",
    "                    subplot_titles=['Age', 'RestingBP', 'Cholesterol','MaxHR','Oldpeak'])\n",
    "#create boxplot visualization of numeric columns\n",
    "fig.add_trace(go.Box(x=data.Age, name='', showlegend=False), row=1, col=1)\n",
    "fig.add_trace(go.Box(x=data.RestingBP, name='', showlegend=False), row=1, col=2)\n",
    "fig.add_trace(go.Box(x=data.Cholesterol, name='', showlegend=False), row=1, col=3)\n",
    "fig.add_trace(go.Box(x=data.MaxHR, name='', showlegend=False), row=2, col=1)\n",
    "fig.add_trace(go.Box(x=data.Oldpeak, name='', showlegend=False), row=2, col=2)\n",
    "\n",
    "#config size\n",
    "fig.update_layout(height=500, width=900)\n",
    "#show visualizations\n",
    "fig.show()"
   ]
  },
  {
   "cell_type": "code",
   "execution_count": null,
   "id": "00d315ac",
   "metadata": {
    "execution": {
     "iopub.execute_input": "2022-04-05T23:59:10.619417Z",
     "iopub.status.busy": "2022-04-05T23:59:10.618385Z",
     "iopub.status.idle": "2022-04-05T23:59:10.625722Z",
     "shell.execute_reply": "2022-04-05T23:59:10.625278Z",
     "shell.execute_reply.started": "2022-04-04T06:12:13.825804Z"
    },
    "id": "00d315ac",
    "papermill": {
     "duration": 0.061368,
     "end_time": "2022-04-05T23:59:10.625841",
     "exception": false,
     "start_time": "2022-04-05T23:59:10.564473",
     "status": "completed"
    },
    "tags": []
   },
   "outputs": [],
   "source": [
    "#creating conditions to change values to nan\n",
    "conC = (data[\"Cholesterol\"] < 78) | (data[\"Cholesterol\"] >457)\n",
    "conR = (data[\"RestingBP\"] < 80) | (data[\"RestingBP\"] >192)\n",
    "#change values to nan\n",
    "data.loc[conC,'Cholesterol'] = np.nan\n",
    "data.loc[conR,'RestingBP'] = np.nan\n",
    "#fill nan values to mean by group of heart disease\n",
    "data['Cholesterol'] = data['Cholesterol'].fillna(data.groupby('HeartDisease')['Cholesterol'].transform('mean'))\n",
    "data['RestingBP'] = data['RestingBP'].fillna(data.groupby('HeartDisease')['RestingBP'].transform('mean'))"
   ]
  },
  {
   "cell_type": "code",
   "execution_count": null,
   "id": "7666dd2d",
   "metadata": {
    "colab": {
     "base_uri": "https://localhost:8080/",
     "height": 317
    },
    "execution": {
     "iopub.execute_input": "2022-04-05T23:59:10.718315Z",
     "iopub.status.busy": "2022-04-05T23:59:10.717725Z",
     "iopub.status.idle": "2022-04-05T23:59:10.749081Z",
     "shell.execute_reply": "2022-04-05T23:59:10.749621Z",
     "shell.execute_reply.started": "2022-04-04T06:12:13.843267Z"
    },
    "id": "7666dd2d",
    "outputId": "1e38d36c-b326-4ad7-f9cb-35e68c442a2b",
    "papermill": {
     "duration": 0.078642,
     "end_time": "2022-04-05T23:59:10.749779",
     "exception": false,
     "start_time": "2022-04-05T23:59:10.671137",
     "status": "completed"
    },
    "tags": []
   },
   "outputs": [],
   "source": [
    "# Set up the subplots grid\n",
    "fig = make_subplots(rows=1, cols=2, \n",
    "                    # Set the subplot titles\n",
    "                    subplot_titles=['RestingBP', 'Cholesterol'])\n",
    "fig.add_trace(go.Box(x=data.RestingBP, name='', showlegend=False), row=1, col=1)\n",
    "fig.add_trace(go.Box(x=data.Cholesterol, name='', showlegend=False), row=1, col=2)\n",
    "#config size\n",
    "fig.update_layout(height=300, width=700)\n",
    "#show visualizations\n",
    "fig.show()"
   ]
  },
  {
   "cell_type": "markdown",
   "id": "14c6b291",
   "metadata": {
    "id": "14c6b291",
    "papermill": {
     "duration": 0.045761,
     "end_time": "2022-04-05T23:59:10.842487",
     "exception": false,
     "start_time": "2022-04-05T23:59:10.796726",
     "status": "completed"
    },
    "tags": []
   },
   "source": [
    "# 🔎 3 Data Exploration"
   ]
  },
  {
   "cell_type": "code",
   "execution_count": null,
   "id": "dca60be0",
   "metadata": {
    "execution": {
     "iopub.execute_input": "2022-04-05T23:59:10.936526Z",
     "iopub.status.busy": "2022-04-05T23:59:10.935917Z",
     "iopub.status.idle": "2022-04-05T23:59:10.947067Z",
     "shell.execute_reply": "2022-04-05T23:59:10.946617Z",
     "shell.execute_reply.started": "2022-04-04T06:12:13.885198Z"
    },
    "id": "dca60be0",
    "papermill": {
     "duration": 0.059397,
     "end_time": "2022-04-05T23:59:10.947191",
     "exception": false,
     "start_time": "2022-04-05T23:59:10.887794",
     "status": "completed"
    },
    "tags": []
   },
   "outputs": [],
   "source": [
    "#creating a copy of dataset for the visualization\n",
    "eda= data.copy()\n",
    "#change values to make better visualizations\n",
    "eda['Sex'] = np.where(eda['Sex'] == 'F', 'Female', 'Male')\n",
    "eda['HeartDisease'] = np.where(eda['HeartDisease'] == 0, 'Normal', 'Heart Disease')\n",
    "eda['ExerciseAngina'] = np.where(eda['ExerciseAngina'] == 'N', 'No', 'Yes')\n",
    "eda[\"ChestPainType\"].replace({'TA': 'Typical Angina', 'ATA': 'Atypical Angina', \n",
    "                              'NAP': 'Non-Anginal Pain', 'ASY': 'Asymptomatic'}, inplace= True)\n",
    "\n"
   ]
  },
  {
   "cell_type": "code",
   "execution_count": null,
   "id": "feb769fe",
   "metadata": {
    "colab": {
     "base_uri": "https://localhost:8080/",
     "height": 467
    },
    "execution": {
     "iopub.execute_input": "2022-04-05T23:59:11.040425Z",
     "iopub.status.busy": "2022-04-05T23:59:11.039829Z",
     "iopub.status.idle": "2022-04-05T23:59:11.774926Z",
     "shell.execute_reply": "2022-04-05T23:59:11.775385Z",
     "shell.execute_reply.started": "2022-04-04T06:12:13.899767Z"
    },
    "id": "feb769fe",
    "jupyter": {
     "source_hidden": true
    },
    "outputId": "03581d08-17f2-49aa-8685-fceb46c014e6",
    "papermill": {
     "duration": 0.783741,
     "end_time": "2022-04-05T23:59:11.775553",
     "exception": false,
     "start_time": "2022-04-05T23:59:10.991812",
     "status": "completed"
    },
    "tags": []
   },
   "outputs": [],
   "source": [
    "#barplot of heart failure by gender \n",
    "my_scale = ['rgb(70,81,242)','rgb(255,105,180)']\n",
    "#histogram with plotly\n",
    "df = px.data.tips()\n",
    "fig = px.histogram(eda, x=\"HeartDisease\",\n",
    "             color='Sex', barmode='group', \n",
    "             color_discrete_sequence =my_scale, opacity=0.9,text_auto=True,\n",
    "             height=450, width = 450)\n",
    "fig.update_layout(title_text='Heart failure by Sex',title_font_size=16, title_x=0.5,\n",
    "                  font_family='Bahnschrift SemiBold', \n",
    "                  yaxis_title=None, xaxis_title=None)\n",
    "fig.update_traces(textfont_size=14, textangle=0, textposition=\"outside\", cliponaxis=False,\n",
    "                 marker_line_width=1,marker_line_color=\"black\")\n",
    "\n",
    "\n",
    "fig.show()"
   ]
  },
  {
   "cell_type": "code",
   "execution_count": null,
   "id": "df98baec",
   "metadata": {
    "colab": {
     "base_uri": "https://localhost:8080/",
     "height": 467
    },
    "execution": {
     "iopub.execute_input": "2022-04-05T23:59:11.869192Z",
     "iopub.status.busy": "2022-04-05T23:59:11.868690Z",
     "iopub.status.idle": "2022-04-05T23:59:11.952330Z",
     "shell.execute_reply": "2022-04-05T23:59:11.951845Z",
     "shell.execute_reply.started": "2022-04-04T06:12:14.010829Z"
    },
    "id": "df98baec",
    "jupyter": {
     "source_hidden": true
    },
    "outputId": "607b22f1-aa73-48a5-9baf-d0b13ce166ee",
    "papermill": {
     "duration": 0.132237,
     "end_time": "2022-04-05T23:59:11.952481",
     "exception": false,
     "start_time": "2022-04-05T23:59:11.820244",
     "status": "completed"
    },
    "tags": []
   },
   "outputs": [],
   "source": [
    "df = px.data.tips()\n",
    "fig = px.histogram(eda, x=\"HeartDisease\",\n",
    "             color='ExerciseAngina', barmode='group', \n",
    "                       color_discrete_sequence= px.colors.qualitative.T10,opacity=0.9,text_auto=True,\n",
    "             height=450, width = 450)\n",
    "fig.update_layout(title_text='Heart failure by Exercise Angina',title_font_size=16, title_x=0.5,\n",
    "                  font_family='Bahnschrift SemiBold', \n",
    "                  yaxis_title=None, xaxis_title=None)\n",
    "fig.update_traces(textfont_size=14, textangle=0, textposition=\"outside\", cliponaxis=False,\n",
    "                 marker_line_width=1,marker_line_color=\"black\")\n",
    "\n",
    "\n",
    "fig.show()"
   ]
  },
  {
   "cell_type": "code",
   "execution_count": null,
   "id": "50602d18",
   "metadata": {
    "colab": {
     "base_uri": "https://localhost:8080/",
     "height": 467
    },
    "execution": {
     "iopub.execute_input": "2022-04-05T23:59:12.051982Z",
     "iopub.status.busy": "2022-04-05T23:59:12.051297Z",
     "iopub.status.idle": "2022-04-05T23:59:12.146662Z",
     "shell.execute_reply": "2022-04-05T23:59:12.147331Z",
     "shell.execute_reply.started": "2022-04-04T06:12:14.11879Z"
    },
    "id": "50602d18",
    "jupyter": {
     "source_hidden": true
    },
    "outputId": "530e7a3e-83ec-4d0c-b8a3-4ca6971683b7",
    "papermill": {
     "duration": 0.146313,
     "end_time": "2022-04-05T23:59:12.147521",
     "exception": false,
     "start_time": "2022-04-05T23:59:12.001208",
     "status": "completed"
    },
    "tags": []
   },
   "outputs": [],
   "source": [
    "#barplot of heart failure by Chest pain type \n",
    "df = px.data.tips()\n",
    "fig = px.histogram(eda, x=\"HeartDisease\",\n",
    "             color='ChestPainType', barmode='group', \n",
    "                       color_discrete_sequence= px.colors.qualitative.T10,opacity=0.9,text_auto=True,\n",
    "             height=450, width = 450)\n",
    "fig.update_layout(title_text='Heart failure by Chest pain type',title_font_size=16, title_x=0.5,\n",
    "                  font_family='Bahnschrift SemiBold', \n",
    "                  yaxis_title=None, xaxis_title=None)\n",
    "fig.update_traces(textfont_size=14, textangle=0, textposition=\"outside\", cliponaxis=False,\n",
    "                 marker_line_width=1,marker_line_color=\"black\")\n",
    "\n",
    "\n",
    "fig.show()"
   ]
  },
  {
   "cell_type": "code",
   "execution_count": null,
   "id": "70297a2e",
   "metadata": {
    "colab": {
     "base_uri": "https://localhost:8080/",
     "height": 467
    },
    "execution": {
     "iopub.execute_input": "2022-04-05T23:59:12.249641Z",
     "iopub.status.busy": "2022-04-05T23:59:12.249053Z",
     "iopub.status.idle": "2022-04-05T23:59:12.342767Z",
     "shell.execute_reply": "2022-04-05T23:59:12.342179Z",
     "shell.execute_reply.started": "2022-04-04T06:12:14.245581Z"
    },
    "id": "70297a2e",
    "jupyter": {
     "source_hidden": true
    },
    "outputId": "6a001f9d-83a1-4cf5-8c27-ca42f3f71fe9",
    "papermill": {
     "duration": 0.145373,
     "end_time": "2022-04-05T23:59:12.342910",
     "exception": false,
     "start_time": "2022-04-05T23:59:12.197537",
     "status": "completed"
    },
    "tags": []
   },
   "outputs": [],
   "source": [
    "#barplot of heart failure by Resting ECG\n",
    "df = px.data.tips()\n",
    "fig = px.histogram(eda, x=\"HeartDisease\",\n",
    "             color='RestingECG', barmode='group', \n",
    "              color_discrete_sequence= px.colors.qualitative.T10, opacity=0.9,text_auto=True,\n",
    "             height=450, width = 450)\n",
    "fig.update_layout(title_text='Heart failure by Resting ECG',title_font_size=16, title_x=0.5,\n",
    "                  font_family='Bahnschrift SemiBold', \n",
    "                  yaxis_title=None, xaxis_title=None)\n",
    "fig.update_traces(textfont_size=14, textangle=0, textposition=\"outside\", cliponaxis=False,\n",
    "                 marker_line_width=1,marker_line_color=\"black\")\n",
    "\n",
    "\n",
    "fig.show()"
   ]
  },
  {
   "cell_type": "code",
   "execution_count": null,
   "id": "a1c4d473",
   "metadata": {
    "colab": {
     "base_uri": "https://localhost:8080/",
     "height": 517
    },
    "execution": {
     "iopub.execute_input": "2022-04-05T23:59:12.647904Z",
     "iopub.status.busy": "2022-04-05T23:59:12.647229Z",
     "iopub.status.idle": "2022-04-05T23:59:12.721003Z",
     "shell.execute_reply": "2022-04-05T23:59:12.721475Z",
     "shell.execute_reply.started": "2022-04-04T06:12:14.479738Z"
    },
    "id": "a1c4d473",
    "jupyter": {
     "source_hidden": true
    },
    "outputId": "357466ca-5a95-43f2-92d6-0a9097825502",
    "papermill": {
     "duration": 0.131285,
     "end_time": "2022-04-05T23:59:12.721636",
     "exception": false,
     "start_time": "2022-04-05T23:59:12.590351",
     "status": "completed"
    },
    "tags": []
   },
   "outputs": [],
   "source": [
    "#barplot of heart failure by Age\n",
    "df = px.data.tips()\n",
    "fig = px.histogram(eda, x=\"Age\",\n",
    "             color='HeartDisease',color_discrete_sequence= px.colors.qualitative.T10,\n",
    "                   nbins = 40,opacity=0.8,height=500, width = 700)\n",
    "fig.update_layout(title_text='Heart failure by Age',title_font_size=16, title_x=0.5,\n",
    "                  font_family='Bahnschrift SemiBold', \n",
    "                  yaxis_title=None, xaxis_title=None)\n",
    "fig.update_traces(textfont_size=14, textangle=0, textposition=\"outside\", cliponaxis=False,\n",
    "                 marker_line_width=1,marker_line_color=\"black\")\n",
    "\n",
    "\n",
    "fig.show()"
   ]
  },
  {
   "cell_type": "code",
   "execution_count": null,
   "id": "e85b2f1c",
   "metadata": {
    "colab": {
     "base_uri": "https://localhost:8080/",
     "height": 517
    },
    "execution": {
     "iopub.execute_input": "2022-04-05T23:59:12.831510Z",
     "iopub.status.busy": "2022-04-05T23:59:12.830770Z",
     "iopub.status.idle": "2022-04-05T23:59:12.908768Z",
     "shell.execute_reply": "2022-04-05T23:59:12.909164Z",
     "shell.execute_reply.started": "2022-04-04T06:12:14.581167Z"
    },
    "id": "e85b2f1c",
    "jupyter": {
     "source_hidden": true
    },
    "outputId": "4ed81fba-8ff3-47ad-d9ec-a9b31e8ad9e0",
    "papermill": {
     "duration": 0.133481,
     "end_time": "2022-04-05T23:59:12.909314",
     "exception": false,
     "start_time": "2022-04-05T23:59:12.775833",
     "status": "completed"
    },
    "tags": []
   },
   "outputs": [],
   "source": [
    "#barplot of heart failure by Age and Sex\n",
    "df = px.data.tips()\n",
    "fig = px.histogram(eda, x=\"Cholesterol\",\n",
    "             color='HeartDisease',color_discrete_sequence= px.colors.qualitative.T10,\n",
    "                   nbins = 40,opacity=0.8,height=500, width = 700)\n",
    "fig.update_layout(title_text='Heart failure by Cholesterol',title_font_size=16, title_x=0.5,\n",
    "                  font_family='Bahnschrift SemiBold', \n",
    "                  yaxis_title=None, xaxis_title=None)\n",
    "fig.update_traces(textfont_size=14, textangle=0, textposition=\"outside\", cliponaxis=False,\n",
    "                 marker_line_width=1,marker_line_color=\"black\")\n",
    "\n",
    "\n",
    "fig.show()"
   ]
  },
  {
   "cell_type": "code",
   "execution_count": null,
   "id": "e661d390",
   "metadata": {
    "colab": {
     "base_uri": "https://localhost:8080/",
     "height": 517
    },
    "execution": {
     "iopub.execute_input": "2022-04-05T23:59:13.020195Z",
     "iopub.status.busy": "2022-04-05T23:59:13.019569Z",
     "iopub.status.idle": "2022-04-05T23:59:13.101727Z",
     "shell.execute_reply": "2022-04-05T23:59:13.101105Z",
     "shell.execute_reply.started": "2022-04-04T06:12:14.847498Z"
    },
    "id": "e661d390",
    "jupyter": {
     "source_hidden": true
    },
    "outputId": "0699f659-0bc4-4610-d99b-b4822c978692",
    "papermill": {
     "duration": 0.139264,
     "end_time": "2022-04-05T23:59:13.101890",
     "exception": false,
     "start_time": "2022-04-05T23:59:12.962626",
     "status": "completed"
    },
    "tags": []
   },
   "outputs": [],
   "source": [
    "#barplot of heart failure by Age and Sex\n",
    "df = px.data.tips()\n",
    "fig = px.histogram(eda, x=\"RestingBP\",\n",
    "             color='HeartDisease',color_discrete_sequence= px.colors.qualitative.T10,\n",
    "                   nbins = 60,opacity=0.8,height=500, width = 700)\n",
    "fig.update_layout(title_text='Heart failure by RestingBP',title_font_size=16, title_x=0.5,\n",
    "                  font_family='Bahnschrift SemiBold', \n",
    "                  yaxis_title=None, xaxis_title=None)\n",
    "fig.update_traces(textfont_size=14, textangle=0, textposition=\"outside\", cliponaxis=False,\n",
    "                 marker_line_width=1,marker_line_color=\"black\")\n",
    "\n",
    "\n",
    "fig.show()"
   ]
  },
  {
   "cell_type": "markdown",
   "id": "2a6b19c4",
   "metadata": {
    "id": "2a6b19c4",
    "papermill": {
     "duration": 0.055109,
     "end_time": "2022-04-05T23:59:13.216329",
     "exception": false,
     "start_time": "2022-04-05T23:59:13.161220",
     "status": "completed"
    },
    "tags": []
   },
   "source": [
    "**bold text**#  4. Model *builing*"
   ]
  },
  {
   "cell_type": "markdown",
   "id": "5b370c6f",
   "metadata": {
    "id": "5b370c6f",
    "papermill": {
     "duration": 0.054176,
     "end_time": "2022-04-05T23:59:13.327019",
     "exception": false,
     "start_time": "2022-04-05T23:59:13.272843",
     "status": "completed"
    },
    "tags": []
   },
   "source": [
    "## 4.1 Prepare Data"
   ]
  },
  {
   "cell_type": "code",
   "execution_count": null,
   "id": "4cdf3218",
   "metadata": {
    "execution": {
     "iopub.execute_input": "2022-04-05T23:59:13.437766Z",
     "iopub.status.busy": "2022-04-05T23:59:13.437106Z",
     "iopub.status.idle": "2022-04-05T23:59:13.449308Z",
     "shell.execute_reply": "2022-04-05T23:59:13.449840Z",
     "shell.execute_reply.started": "2022-04-04T06:12:14.951931Z"
    },
    "id": "4cdf3218",
    "papermill": {
     "duration": 0.068224,
     "end_time": "2022-04-05T23:59:13.449990",
     "exception": false,
     "start_time": "2022-04-05T23:59:13.381766",
     "status": "completed"
    },
    "tags": []
   },
   "outputs": [],
   "source": [
    "#convert columns to binary, just these 2 columns\n",
    "data['Sex'] = np.where(data['Sex'] == 'M', 1, 0)\n",
    "data['ExerciseAngina'] = np.where(data['ExerciseAngina'] == 'Y', 1, 0)\n",
    "\n",
    "#create target value and label\n",
    "y=data.HeartDisease\n",
    "X=data.drop('HeartDisease', axis=1)\n",
    "#convert to binary\n",
    "X=pd.get_dummies(X)"
   ]
  },
  {
   "cell_type": "markdown",
   "id": "d707d190",
   "metadata": {
    "id": "d707d190",
    "papermill": {
     "duration": 0.054105,
     "end_time": "2022-04-05T23:59:13.557460",
     "exception": false,
     "start_time": "2022-04-05T23:59:13.503355",
     "status": "completed"
    },
    "tags": []
   },
   "source": [
    "## 4.2 Create model"
   ]
  },
  {
   "cell_type": "code",
   "execution_count": null,
   "id": "a6f6ac4f",
   "metadata": {
    "colab": {
     "base_uri": "https://localhost:8080/"
    },
    "execution": {
     "iopub.execute_input": "2022-04-05T23:59:13.665260Z",
     "iopub.status.busy": "2022-04-05T23:59:13.664720Z",
     "iopub.status.idle": "2022-04-05T23:59:14.875494Z",
     "shell.execute_reply": "2022-04-05T23:59:14.875922Z",
     "shell.execute_reply.started": "2022-04-04T06:12:14.97218Z"
    },
    "id": "a6f6ac4f",
    "outputId": "14e317a9-3a62-43e1-8fde-9ae6cf56308d",
    "papermill": {
     "duration": 1.26579,
     "end_time": "2022-04-05T23:59:14.876079",
     "exception": false,
     "start_time": "2022-04-05T23:59:13.610289",
     "status": "completed"
    },
    "tags": []
   },
   "outputs": [],
   "source": [
    "#creating the parameters\n",
    "c_space = np.logspace(-5, 8, 15)\n",
    "param_grid = {'C': c_space, 'penalty': ['l1', 'l2']}\n",
    "\n",
    "#ML model\n",
    "logreg = LogisticRegression(solver='liblinear',max_iter=10000)\n",
    "\n",
    "#separete data 75% train 25% test\n",
    "X_train, X_test, y_train, y_test = train_test_split(X, y, test_size=0.25, random_state=42, stratify=y)\n",
    "\n",
    "\n",
    "#find the best parameter\n",
    "logreg_cv = GridSearchCV(logreg, param_grid, cv=5)\n",
    "\n",
    "# fit the model with data\n",
    "logreg_cv.fit(X_train, y_train)\n",
    "\n",
    "print(\"Tuned Logistic Regression Parameter: {}\".format(logreg_cv.best_params_))\n",
    "print(\"Tuned Logistic Regression Accuracy: {}\".format(logreg_cv.best_score_))\n",
    "\n"
   ]
  },
  {
   "cell_type": "code",
   "execution_count": null,
   "id": "aa18ba93",
   "metadata": {
    "colab": {
     "base_uri": "https://localhost:8080/"
    },
    "execution": {
     "iopub.execute_input": "2022-04-05T23:59:14.990041Z",
     "iopub.status.busy": "2022-04-05T23:59:14.989349Z",
     "iopub.status.idle": "2022-04-05T23:59:15.045525Z",
     "shell.execute_reply": "2022-04-05T23:59:15.046234Z",
     "shell.execute_reply.started": "2022-04-04T06:12:16.61704Z"
    },
    "id": "aa18ba93",
    "outputId": "a8bc90b7-843e-43f3-f665-63b21b09d2ec",
    "papermill": {
     "duration": 0.113679,
     "end_time": "2022-04-05T23:59:15.046526",
     "exception": false,
     "start_time": "2022-04-05T23:59:14.932847",
     "status": "completed"
    },
    "tags": []
   },
   "outputs": [],
   "source": [
    "#create the ML model with the parameters\n",
    "logreg2=LogisticRegression(C=0.051, penalty=\"l2\")\n",
    "logreg2.fit(X_train,y_train)\n",
    "print(\"score\",logreg2.score(X_test,y_test))"
   ]
  },
  {
   "cell_type": "code",
   "execution_count": null,
   "id": "15df641a",
   "metadata": {
    "execution": {
     "iopub.execute_input": "2022-04-05T23:59:15.212899Z",
     "iopub.status.busy": "2022-04-05T23:59:15.212251Z",
     "iopub.status.idle": "2022-04-05T23:59:15.214339Z",
     "shell.execute_reply": "2022-04-05T23:59:15.214807Z",
     "shell.execute_reply.started": "2022-04-04T06:12:16.69671Z"
    },
    "id": "15df641a",
    "papermill": {
     "duration": 0.066816,
     "end_time": "2022-04-05T23:59:15.214946",
     "exception": false,
     "start_time": "2022-04-05T23:59:15.148130",
     "status": "completed"
    },
    "tags": []
   },
   "outputs": [],
   "source": [
    "#predict data\n",
    "y_pred=logreg2.predict(X_test.iloc[0,:].to_numpy().reshape(1,-1))"
   ]
  },
  {
   "cell_type": "code",
   "execution_count": null,
   "id": "65fa3eae",
   "metadata": {},
   "outputs": [],
   "source": [
    "filename = 'model.sav'\n",
    "pickle.dump(logreg2, open(filename, 'wb'))"
   ]
  },
  {
   "cell_type": "code",
   "execution_count": null,
   "id": "81218c28",
   "metadata": {},
   "outputs": [],
   "source": [
    "y_pred"
   ]
  },
  {
   "cell_type": "code",
   "execution_count": null,
   "id": "b7858669",
   "metadata": {},
   "outputs": [],
   "source": [
    "X_test"
   ]
  },
  {
   "cell_type": "markdown",
   "id": "0baa2384",
   "metadata": {
    "id": "0baa2384",
    "papermill": {
     "duration": 0.054137,
     "end_time": "2022-04-05T23:59:15.322995",
     "exception": false,
     "start_time": "2022-04-05T23:59:15.268858",
     "status": "completed"
    },
    "tags": []
   },
   "source": [
    "# 📈 5. Results"
   ]
  },
  {
   "cell_type": "markdown",
   "id": "cd40b909",
   "metadata": {
    "id": "cd40b909",
    "papermill": {
     "duration": 0.057057,
     "end_time": "2022-04-05T23:59:15.435148",
     "exception": false,
     "start_time": "2022-04-05T23:59:15.378091",
     "status": "completed"
    },
    "tags": []
   },
   "source": [
    "## 5.1 Confusion Matrix"
   ]
  },
  {
   "cell_type": "code",
   "execution_count": null,
   "id": "d7d332e5",
   "metadata": {
    "colab": {
     "base_uri": "https://localhost:8080/"
    },
    "execution": {
     "iopub.execute_input": "2022-04-05T23:59:15.546607Z",
     "iopub.status.busy": "2022-04-05T23:59:15.545999Z",
     "iopub.status.idle": "2022-04-05T23:59:15.551325Z",
     "shell.execute_reply": "2022-04-05T23:59:15.551769Z",
     "shell.execute_reply.started": "2022-04-04T06:12:16.712511Z"
    },
    "id": "d7d332e5",
    "outputId": "2009e3ed-c7f9-4fc7-e67e-54d23423a107",
    "papermill": {
     "duration": 0.063187,
     "end_time": "2022-04-05T23:59:15.551905",
     "exception": false,
     "start_time": "2022-04-05T23:59:15.488718",
     "status": "completed"
    },
    "tags": []
   },
   "outputs": [],
   "source": [
    "#create confusion matrix\n",
    "cnf_matrix = metrics.confusion_matrix(y_test, y_pred)\n",
    "cnf_matrix"
   ]
  },
  {
   "cell_type": "code",
   "execution_count": null,
   "id": "3e873032",
   "metadata": {
    "colab": {
     "base_uri": "https://localhost:8080/",
     "height": 343
    },
    "execution": {
     "iopub.execute_input": "2022-04-05T23:59:15.666979Z",
     "iopub.status.busy": "2022-04-05T23:59:15.666326Z",
     "iopub.status.idle": "2022-04-05T23:59:15.980834Z",
     "shell.execute_reply": "2022-04-05T23:59:15.981329Z",
     "shell.execute_reply.started": "2022-04-04T06:12:16.735278Z"
    },
    "id": "3e873032",
    "outputId": "7748eb8a-a0ce-4757-a32f-51a043b581c4",
    "papermill": {
     "duration": 0.373777,
     "end_time": "2022-04-05T23:59:15.981547",
     "exception": false,
     "start_time": "2022-04-05T23:59:15.607770",
     "status": "completed"
    },
    "tags": []
   },
   "outputs": [],
   "source": [
    "#create hetmap of confusion matrix\n",
    "class_names=[0,1] # name  of classes\n",
    "fig, ax = plt.subplots()\n",
    "tick_marks = np.arange(len(class_names))\n",
    "plt.xticks(tick_marks, class_names)\n",
    "plt.yticks(tick_marks, class_names)\n",
    "# create heatmap\n",
    "sns.heatmap(pd.DataFrame(cnf_matrix), annot=True, cmap=\"YlGnBu\" ,fmt='g')\n",
    "ax.xaxis.set_label_position(\"top\")\n",
    "plt.tight_layout()\n",
    "plt.title('Confusion matrix', y=1.1)\n",
    "plt.ylabel('Actual label')\n",
    "plt.xlabel('Predicted label')"
   ]
  },
  {
   "cell_type": "code",
   "execution_count": null,
   "id": "f8c3cb86",
   "metadata": {
    "colab": {
     "base_uri": "https://localhost:8080/"
    },
    "execution": {
     "iopub.execute_input": "2022-04-05T23:59:16.105568Z",
     "iopub.status.busy": "2022-04-05T23:59:16.104655Z",
     "iopub.status.idle": "2022-04-05T23:59:16.113119Z",
     "shell.execute_reply": "2022-04-05T23:59:16.113727Z",
     "shell.execute_reply.started": "2022-04-04T06:12:17.15917Z"
    },
    "id": "f8c3cb86",
    "outputId": "b4c813aa-5f8e-4e01-8b59-549b6a29f23a",
    "papermill": {
     "duration": 0.071175,
     "end_time": "2022-04-05T23:59:16.113884",
     "exception": false,
     "start_time": "2022-04-05T23:59:16.042709",
     "status": "completed"
    },
    "tags": []
   },
   "outputs": [],
   "source": [
    "print(\"Accuracy:\",metrics.accuracy_score(y_test, y_pred))\n",
    "print(\"Precision:\",metrics.precision_score(y_test, y_pred))\n",
    "print(\"Recall:\",metrics.recall_score(y_test, y_pred))"
   ]
  },
  {
   "cell_type": "markdown",
   "id": "b70785e7",
   "metadata": {
    "id": "b70785e7",
    "papermill": {
     "duration": 0.058469,
     "end_time": "2022-04-05T23:59:16.230780",
     "exception": false,
     "start_time": "2022-04-05T23:59:16.172311",
     "status": "completed"
    },
    "tags": []
   },
   "source": [
    "## 5.2 Roc Curve"
   ]
  },
  {
   "cell_type": "code",
   "execution_count": null,
   "id": "2996dedc",
   "metadata": {
    "colab": {
     "base_uri": "https://localhost:8080/",
     "height": 295
    },
    "execution": {
     "iopub.execute_input": "2022-04-05T23:59:16.354375Z",
     "iopub.status.busy": "2022-04-05T23:59:16.353699Z",
     "iopub.status.idle": "2022-04-05T23:59:16.489999Z",
     "shell.execute_reply": "2022-04-05T23:59:16.490869Z",
     "shell.execute_reply.started": "2022-04-04T06:12:17.174119Z"
    },
    "id": "2996dedc",
    "outputId": "a2bb2196-9a8c-48e3-8bca-572a46a9e64c",
    "papermill": {
     "duration": 0.201671,
     "end_time": "2022-04-05T23:59:16.491175",
     "exception": false,
     "start_time": "2022-04-05T23:59:16.289504",
     "status": "completed"
    },
    "tags": []
   },
   "outputs": [],
   "source": [
    "y_pred_proba = logreg2.predict_proba(X_test)[::,1]\n",
    "fpr, tpr, _ = metrics.roc_curve(y_test,  y_pred_proba)\n",
    "auc = metrics.roc_auc_score(y_test, y_pred_proba)\n",
    "plt.plot([0, 1], [0, 1], 'k--')\n",
    "plt.plot(fpr,tpr,label=\"data 1, auc=\"+str(auc))\n",
    "plt.xlabel('False Positive Rate')\n",
    "plt.ylabel('True Positive Rate')\n",
    "plt.title('ROC Curve')\n",
    "plt.legend(loc=4)\n",
    "plt.show()"
   ]
  },
  {
   "cell_type": "code",
   "execution_count": null,
   "id": "f5f8cf3a",
   "metadata": {},
   "outputs": [],
   "source": []
  }
 ],
 "metadata": {
  "colab": {
   "collapsed_sections": [],
   "name": "HFP_LR.ipynb",
   "provenance": []
  },
  "kernelspec": {
   "display_name": "Python 3",
   "language": "python",
   "name": "python3"
  },
  "language_info": {
   "codemirror_mode": {
    "name": "ipython",
    "version": 3
   },
   "file_extension": ".py",
   "mimetype": "text/x-python",
   "name": "python",
   "nbconvert_exporter": "python",
   "pygments_lexer": "ipython3",
   "version": "3.8.8"
  },
  "papermill": {
   "default_parameters": {},
   "duration": 19.790402,
   "end_time": "2022-04-05T23:59:17.379852",
   "environment_variables": {},
   "exception": null,
   "input_path": "__notebook__.ipynb",
   "output_path": "__notebook__.ipynb",
   "parameters": {},
   "start_time": "2022-04-05T23:58:57.589450",
   "version": "2.3.3"
  }
 },
 "nbformat": 4,
 "nbformat_minor": 5
}
